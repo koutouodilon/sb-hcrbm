{
 "cells": [
  {
   "cell_type": "code",
   "execution_count": 1,
   "metadata": {},
   "outputs": [],
   "source": [
    "import pandas as pd\n",
    "import numpy as np\n",
    "%matplotlib inline"
   ]
  },
  {
   "cell_type": "code",
   "execution_count": 2,
   "metadata": {},
   "outputs": [],
   "source": [
    "matador_crossed_df = pd.read_csv('../../datasets/matador_crossed.csv')"
   ]
  },
  {
   "cell_type": "code",
   "execution_count": 3,
   "metadata": {},
   "outputs": [],
   "source": [
    "proteins_df = matador_crossed_df[['protein_string_id', 'protein_sequence']].copy()\n",
    "proteins_df.drop_duplicates(subset=['protein_string_id'], inplace=True)\n",
    "proteins_df_indexed = proteins_df.set_index(['protein_string_id'])"
   ]
  },
  {
   "cell_type": "code",
   "execution_count": 4,
   "metadata": {},
   "outputs": [],
   "source": [
    "drugs_df = matador_crossed_df[['drug_pubchem_id', 'smiles']].copy()\n",
    "drugs_df.drop_duplicates(subset=['drug_pubchem_id'], inplace=True)\n",
    "drugs_df_indexed = drugs_df.set_index(['drug_pubchem_id'])"
   ]
  },
  {
   "cell_type": "code",
   "execution_count": 5,
   "metadata": {},
   "outputs": [],
   "source": [
    "proteins = proteins_df['protein_string_id'].unique()\n",
    "drugs = drugs_df['drug_pubchem_id'].unique()\n",
    "\n",
    "drug2Index = {}\n",
    "index2Drug = {}\n",
    "\n",
    "cptDrug = 0\n",
    "for entry in drugs:\n",
    "    drug2Index[entry] = cptDrug\n",
    "    index2Drug[cptDrug] = entry\n",
    "    cptDrug += 1\n",
    "\n",
    "protein2Index = {}\n",
    "index2Protein = {}\n",
    "\n",
    "cptProtein = 0\n",
    "for entry in proteins:\n",
    "    protein2Index[entry] = cptProtein\n",
    "    index2Protein[cptProtein] = entry\n",
    "    cptProtein += 1"
   ]
  },
  {
   "cell_type": "code",
   "execution_count": 6,
   "metadata": {},
   "outputs": [],
   "source": [
    "drug_drug = {'drug1': [], 'drug1_smiles': [], 'drug2': [], 'drug2_smiles': []}"
   ]
  },
  {
   "cell_type": "code",
   "execution_count": 7,
   "metadata": {},
   "outputs": [],
   "source": [
    "for d1 in drugs_df_indexed.index:\n",
    "    index1 = drug2Index[d1]\n",
    "    drug1_smiles = drugs_df_indexed.loc[d1, 'smiles']\n",
    "    for d2 in drugs_df_indexed.index:\n",
    "        drug_drug['drug1'].append(d1)\n",
    "        drug_drug['drug1_smiles'].append(drug1_smiles)\n",
    "        index2 = drug2Index[d2]\n",
    "        drug2_smiles = drugs_df_indexed.loc[d2, 'smiles']\n",
    "        drug_drug['drug2'].append(d2)\n",
    "        drug_drug['drug2_smiles'].append(drug2_smiles)"
   ]
  },
  {
   "cell_type": "code",
   "execution_count": 8,
   "metadata": {},
   "outputs": [],
   "source": [
    "drug_drug_df = pd.DataFrame(data=drug_drug)"
   ]
  },
  {
   "cell_type": "code",
   "execution_count": 9,
   "metadata": {},
   "outputs": [
    {
     "data": {
      "text/plain": [
       "(467856, 4)"
      ]
     },
     "execution_count": 9,
     "metadata": {},
     "output_type": "execute_result"
    }
   ],
   "source": [
    "drug_drug_df.shape"
   ]
  },
  {
   "cell_type": "code",
   "execution_count": 10,
   "metadata": {},
   "outputs": [],
   "source": [
    "drug_drug_df.to_csv('../../datasets/drug_drug_smiles_data.csv', index=False)"
   ]
  },
  {
   "cell_type": "code",
   "execution_count": null,
   "metadata": {
    "collapsed": true
   },
   "outputs": [],
   "source": []
  }
 ],
 "metadata": {
  "kernelspec": {
   "display_name": "Python 3",
   "language": "python",
   "name": "python3"
  },
  "language_info": {
   "codemirror_mode": {
    "name": "ipython",
    "version": 3
   },
   "file_extension": ".py",
   "mimetype": "text/x-python",
   "name": "python",
   "nbconvert_exporter": "python",
   "pygments_lexer": "ipython3",
   "version": "3.6.1"
  }
 },
 "nbformat": 4,
 "nbformat_minor": 2
}
